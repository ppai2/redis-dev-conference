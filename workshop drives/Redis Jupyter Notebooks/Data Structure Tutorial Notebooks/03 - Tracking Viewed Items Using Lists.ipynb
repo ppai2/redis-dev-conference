{
 "cells": [
  {
   "cell_type": "markdown",
    "metadata": {
               "kernelspec": {
               "display_name": "Python (Redis Workshop)",
               "language": "Python",
               "name": "redisworkshop"
           }},
   "source": [
    "# Tracking Viewed Items Using Lists\n",
    "\n",
    "Many websites provide users with a historical view of their browsing history. It could be\n",
    "a list of recently viewed items from a product catalog, prior interactions with the\n",
    "customer service team, or even a list of recently viewed blog posts - providing users with\n",
    "historical information is a useful way to help them find items that were of interest in\n",
    "the past. Regardless of the type of item, it's essential that your system can respond to\n",
    "requests for the data as quickly as possible.\n",
    "\n",
    "This chapter will look at at using the Redis list datatype to maintain historically viewed\n",
    "items on a per user basis. Redis makes it very easy to write code to maintain this list as\n",
    "well as provides fast access to the data when requested by the user. Our examples will\n",
    "cover:\n",
    "\n",
    "* Storing complex data in lists\n",
    "* Specifying data storage conventions\n",
    "* Identifying per-user lists\n",
    "* Adding items to the recently viewed list\n",
    "* Multiple ways of getting items from the list\n",
    "\n",
    "At the end of the chapter, you should feel comfortable working with lists in Redis\n",
    "and understand how to apply them to a variety of problems.\n",
    "\n",
    "## Lists\n",
    "\n",
    "Redis provides a list data structure which is used to represent ordered sequences of\n",
    "elements.  Like other Redis data structures, every Redis list is associated with a name,\n",
    "called a key, that is used to reference a particular list.  The maximum length of a list is \n",
    "2^32 - 1 elements, allowing for more than 4 billion elements per list.\n",
    "\n",
    "4294967295, more than 4 billion of elements per list)\n",
    "\n",
    "In Redis' terminology, the two ends of a list are referred to as the left and the right.  \n",
    "The left is associated with the first element of the list and the right is associated with \n",
    "the last element of the list.\n",
    "\n",
    "* * *\n",
    "\n",
    "> **Tip**\n",
    ">\n",
    "> Redis' terminology for lists varies from some other languages and algorithm\n",
    "> books.  Other sources use the term head where Redis uses left and the term tail \n",
    "> where Redis uses right.\n",
    "\n",
    "* * *\n",
    "\n",
    "The current version of Redis (3.2) provides seventeen different commands for\n",
    "working with List.  Redis provides commands to:\n",
    "\n",
    "* Determine the size of a list\n",
    "* Add and remove items to a list\n",
    "* Scan for items in a list\n",
    "* Modify items in a list\n",
    "\n",
    "One of the advantages that Redis provides when working with list data, is that\n",
    "Redis allows you to modify your data on the database server, rather than having to\n",
    "read the data from the database then write modifications back.\n",
    "\n",
    "Most Redis list commands operate on the ends of a list or on a range of\n",
    "elements.  Redis provides commands that operate on both the left and right ends\n",
    "of the list, as well as commands that operate on a contiguous range of elements.\n",
    "A few commands offer scanning or searching capabilities based on a binary comparison \n",
    "of elements.  Indexes into a Redis List are zero-based.\n",
    "\n",
    "## Recently Viewed Items\n",
    "\n",
    "In this chapter, we will use a JSON structure to capture properties about a previously\n",
    "viewed blog article and store that data in Redis. Our JSON will contain three fields,\n",
    "`date` (storing the date viewed), `title` (storing a string title of the blog post), and\n",
    "`url` (permalink url to post).\n",
    "\n",
    "Using our JSON to encode a blog post would look like:"
   ]
  },
  {
   "cell_type": "code",
   "execution_count": null,
   "metadata": {
    "attributes": {
     "classes": [
      "json"
     ],
     "id": ""
    }
   },
   "outputs": [],
   "source": [
    "{\n",
    "    \"date\": 1488573871,\n",
    "    \"title\": \"Unveiling the New Redis Enterprise Cloud UI\",\n",
    "    \"url\": \"https://redislabs.com/blog/unveiling-new-redis-enterprise-cloud-ui/\"\n",
    "}\n"
   ]
  },
  {
   "cell_type": "markdown",
    "metadata": {
               "kernelspec": {
               "display_name": "Python (Redis Workshop)",
               "language": "Python",
               "name": "redisworkshop"
           }},
   "source": [
    "In our JSON data, both `title` and `url` will be encoded as strings.  The `date` will\n",
    "be encoded as an integer number of seconds since the Unix Epoch.  The encoding\n",
    "of date is picked to be compatible with the Python `time` package.\n",
    "\n",
    "### Working with JSON in Redis\n",
    "\n",
    "There are many different ways of storing JSON data in Redis: serialized strings, mapping\n",
    "to hashes, natively using modules. For this example, we are going to store JSON in the\n",
    "database as serialized strings.\n",
    "\n",
    "The application code will be responsible for serializing JSON into a string prior to\n",
    "inserting into Redis. The application will also need to deserialize JSON strings into a\n",
    "in-memory form after fetching data items from Redis.\n",
    "\n",
    "Most programming environments have multiple libraries for working with JSON data, in our\n",
    "example code, we will use the Python `json` package.\n",
    "\n",
    "### Working with JSON in Python\n",
    "\n",
    "The `json` module is the standard JSON processing package for Python.  It is\n",
    "part of the Python Standard Library and comes with all Python distributions.\n",
    "The `json` package will provide all the functionality we need to use serialized\n",
    "JSON strings with Redis.\n",
    "\n",
    "In Python, JSON objects are generally represented using the built in dictionary\n",
    "datatype.  Dictionaries can be marshaled (serialized) into strings using\n",
    "the `json.dumps` function and strings can be unmarshaled (deserialized) into\n",
    "dictionaries using the `json.loads` function.  If you aren't familiar with the\n",
    "`json` package, take some time to study the following example:"
   ]
  },
  {
   "cell_type": "code",
   "execution_count": null,
    "metadata": {
               "kernelspec": {
               "display_name": "Python (Redis Workshop)",
               "language": "Python",
               "name": "redisworkshop"
           }},
   "outputs": [],
   "source": [
    "# example Redis connection configuration stored using JSON, one way an app\n",
    "# might store connection information\n",
    "connection_cfg = {\n",
    "    \"prod\": {\n",
    "        \"host\": \"prod-redis.mydomain.com\",\n",
    "        \"port\": 6379,\n",
    "        \"password\": \"secret\",\n",
    "        \"db\": 0\n",
    "     },\n",
    "     \"staging\": {\n",
    "        \"host\": \"staging-redis.mydomain.com\",\n",
    "        \"port\": 6379,\n",
    "        \"password\": \"notAsSecret\",\n",
    "        \"db\": 0    \n",
    "     }\n",
    "}\n",
    "\n",
    "s = json.dumps(connection_cfg)\n",
    "print 'Serialized JSON: \"\"\"{}\"\"\"'.format(s)\n"
   ]
  },
  {
   "cell_type": "markdown",
    "metadata": {
               "kernelspec": {
               "display_name": "Python (Redis Workshop)",
               "language": "Python",
               "name": "redisworkshop"
           }},
   "source": [
    "If everything ran correctly, you should see a serialized JSON string that\n",
    "represents the connection information structure originally stored in the\n",
    "`connection_cfg` variable as the output from the code cell.  Because JSON\n",
    "is designed to be human readable, the serialized string isn't that much\n",
    "different than the original specification.\n",
    "\n",
    "Take the output string from the serialization call  and paste it into the code \n",
    "below to see how it deserializes into a Python dictionary.  Because you are \n",
    "pasting a multi-line string, be sure to use the `\"\"\"` delimiter."
   ]
  },
  {
   "cell_type": "code",
   "execution_count": null,
    "metadata": {
               "kernelspec": {
               "display_name": "Python (Redis Workshop)",
               "language": "Python",
               "name": "redisworkshop"
           }},
   "outputs": [],
   "source": [
    "# Copy the serialized JK\n",
    "serialized_cfg = \"\"\n",
    "\n",
    "# Deserialize our configuration string and print it\n",
    "cfg = json.loads(serialized_cfg)\n",
    "pprint.pprint(cfg)\n"
   ]
  },
  {
   "cell_type": "markdown",
    "metadata": {
               "kernelspec": {
               "display_name": "Python (Redis Workshop)",
               "language": "Python",
               "name": "redisworkshop"
           }},
   "source": [
    "The output from this code cell should be a dictionary that looks nearly\n",
    "identical to the `connection_cfg` above.  If the code doesn't run correctly,\n",
    "check that you correctly pasted the serialized string from the section above \n",
    "and have used the multi-line quote delimiter `\"\"`.\n",
    "\n",
    "### Data Storage Conventions\n",
    "\n",
    "Our historical items will be stored in the database using the List datatype.\n",
    "One list will be stored for each user under the key `user:history:{id}`.  Each \n",
    "list will store up to ten of the most recently viewed items by that user.  We will \n",
    "standardize on the left of the list being the most recently viewed item and the right \n",
    "being the oldest item.  Each element of the list will be a serialized JSON string and\n",
    "the list will be capped at ten items.  Ten is an arbitrary number based on our \n",
    "hypothetical feature specification.\n",
    "\n",
    "To improve the clarity of our code, the Notebook environment includes several\n",
    "utility functions, so you can focus on the Redis programming details.  For this\n",
    "chapter, the main functions you may want to use from the `workshop` package are:\n",
    "\n",
    "* `user_history_key` - generates the proper key from a user id\n",
    "* `ViewedItem.to_serialized_json` - generates a serialized JSON string from a\n",
    "ViewedItem\n",
    "* `ViewedItem.from_serialized_json` - creates a ViewedItem object from a\n",
    "serialized JSON string\n",
    "* `clear_user_history` - removes a users history from Redis\n",
    "* `add_history` - preloads a sample history into Redis for a user\n",
    "\n",
    "We also provide a `ViewedItem` class to represent the application's in-memory\n",
    "data structure.\n",
    "\n",
    "## Adding an Item\n",
    "\n",
    "When a user views an item on our example site, we need to add that item to the\n",
    "recently viewed item list in Redis.  To accomplish this task, our code\n",
    "will need to perform a few operations:\n",
    "\n",
    "* Construct a `ViewedItem` instance with the proper data\n",
    "* Serialize the `ViewedItem` into a string\n",
    "* Insert the string into the database (checking for duplicates)\n",
    "* Ensure our lists has no more than 10 elements\n",
    "\n",
    "This can be accomplished with a few lines of code and three Redis commands:\n",
    "LREM, LPUSH and LTRIM.\n",
    "\n",
    "The LREM (**L**ist **REM**ove) command removes the specified number of copies of\n",
    "an item from a list.  This command is used to remove the viewed item from the\n",
    "list if it is already there.  The LPUSH (**L**eft **PUSH**) prepends an item to\n",
    "the beginning of a Redis List, so we use this command to add our most recently\n",
    "viewed item to the list.  Finally the LTRIM (**L**ist **TRIM**) command trims\n",
    "the list to the specified range of elements, which we use to ensure our list is\n",
    "only the last ten viewed items.\n",
    "\n",
    "*Execute the sample by selecting the cell below and pressing SHIFT + LEFT*"
   ]
  },
  {
   "cell_type": "code",
   "execution_count": null,
    "metadata": {
               "kernelspec": {
               "display_name": "Python (Redis Workshop)",
               "language": "Python",
               "name": "redisworkshop"
           }},
   "outputs": [],
   "source": [
    "def add_viewed_item(r, user_id, item):\n",
    "    \"Stores the most recently viewed item by the user into the Redis database\"\n",
    "    \n",
    "    # serialize our item\n",
    "    serialized_json = item.to_serialized_json()\n",
    "    \n",
    "    # get our key\n",
    "    key = workshop.lists.user_history_key(user_id)\n",
    "    \n",
    "    # remove item from list if it is already there\n",
    "    r.lrem(key, 1, serialized_json)\n",
    "    \n",
    "    # store in Redis, returns length of list, which we ignore\n",
    "    r.lpush(key, serialized_json)\n",
    "\n",
    "    # trim the list (from the left) to 10 items\n",
    "    r.ltrim(key, 0, 9)\n",
    "\n",
    "# construct our currently viewed item and serialize it\n",
    "item = workshop.lists.ViewedItem(date=int(time.time()),\n",
    "                  url='https://redislabs.com/blog/unveiling-new-redis-enterprise-cloud-ui/',\n",
    "                  title='Unveiling the New Redis Enterprise Cloud UI')\n",
    "\n",
    "add_viewed_item(r, 3001, item)\n",
    "workshop.show_database_state(r)   \n"
   ]
  },
  {
   "cell_type": "markdown",
    "metadata": {
               "kernelspec": {
               "display_name": "Python (Redis Workshop)",
               "language": "Python",
               "name": "redisworkshop"
           }},
   "source": [
    "Using our Notebook utility function `show_database_state`, we can display the state\n",
    "of our Redis database after trying our `add_viewed_item` function.  You should\n",
    "see a new key in the database for user 3001 that references a list of items.\n",
    "\n",
    "* * *\n",
    "\n",
    "> **Note**\n",
    ">\n",
    "> One thing that might concern you in the implementation of `add_viewed_item`\n",
    "> is the lack of locking or transactions to ensure data consistency.  For now,\n",
    "> we want to focus on the basic operations with data structures. Concurrency control \n",
    "> is covered in another chapter.  For now, we would like you to focus on learning\n",
    "> the basic Redis commands.\n",
    ">\n",
    "\n",
    "* * *\n",
    "\n",
    "## Accessing the Most Recently Viewed Posts\n",
    "\n",
    "Now that we are storing information about historical views, we need code to\n",
    "access that information. Redis provides a wide range of functions for accessing \n",
    "list data.  We are going to start with a function to retrieve the most\n",
    "recently viewed item.\n",
    "\n",
    "### Fetching Data\n",
    "\n",
    "One way to implement our function is to:\n",
    "\n",
    "* Retrieve an item from the left of the list\n",
    "* Construct a `ViewedItem` object from the serialized string\n",
    "\n",
    "Redis provides different functions we could use to get the data item from the left of the\n",
    "list. In this sample, we are going to use the Redis LPOP (**L**eft **POP**) command, which\n",
    "removes an item from the left of the list and returns it to the caller. Once we have\n",
    "retrieved the item data from Redis, we use the static method\n",
    "`ViewItem.from_serialized_json` to construct our object representation of the data.\n",
    "\n",
    "*Run the example below by selecting the code cell, then using SHIFT + RETURN to execute the code.*"
   ]
  },
  {
   "cell_type": "code",
   "execution_count": null,
    "metadata": {
               "kernelspec": {
               "display_name": "Python (Redis Workshop)",
               "language": "Python",
               "name": "redisworkshop"
           }},
   "outputs": [],
   "source": [
    "def get_most_recent_for_user(r, user_id):\n",
    "    \"Returns the most recent viewed item for a user\"\n",
    "    \n",
    "    key = workshop.lists.user_history_key(user_id)\n",
    "    item_json = r.lpop(key)\n",
    "    if item_json is not None:\n",
    "        item = workshop.lists.ViewedItem.from_serialized_json(item_json)\n",
    "        return item\n",
    "    else:\n",
    "        return None\n",
    "\n",
    "# utility functions to set up our database\n",
    "workshop.lists.clear_user_history(r, 1001)\n",
    "workshop.lists.clear_user_history(r, 3001)\n",
    "workshop.lists.add_history(r, 3001)\n",
    "\n",
    "\n",
    "# simulate for user 1001\n",
    "item = get_most_recent_for_user(r, 1001)\n",
    "pprint.pprint(\"User Id: 1001\") \n",
    "pprint.pprint(item)\n",
    "\n",
    "# simulate for user 3001\n",
    "item = get_most_recent_for_user(r, 3001)\n",
    "pprint.pprint(\"User Id: 3001\")\n",
    "pprint.pprint(item)\n"
   ]
  },
  {
   "cell_type": "markdown",
    "metadata": {
               "kernelspec": {
               "display_name": "Python (Redis Workshop)",
               "language": "Python",
               "name": "redisworkshop"
           }},
   "source": [
    "If your code executed properly, you should see a `None` result returned for user 1001 and\n",
    "an item, *Redis is Beautiful: A Vizualization of Redis Commands*, for user 3001. If you\n",
    "got different results, keep in mind that all of the Notebook cells run against the same\n",
    "Redis database. You may need to use some of the various utility functions to reset your\n",
    "database's state.\n",
    "\n",
    "LPOP is one of the first ways developers learn to manipulate a list, but depending on how\n",
    "the historical view functionality should work it may not be the right function to use for\n",
    "this feature. LPOP performs a destructive modification of the list, changing our\n",
    "historical view, which may not be what the users want.\n",
    "\n",
    "### Getting The Oldest Viewed Item\n",
    "\n",
    "An alternative implementation is to access the oldest viewed item.  For\n",
    "this code, we would need a function that:\n",
    "\n",
    "* Retrieve an item from the right of the list\n",
    "* Construct a `ViewedItem` object from the serialized string\n",
    "\n",
    "Notice, this procedure is nearly identical to the procedure for finding the newest item,\n",
    "only we need to take the item from the right instead of the left.  This can be\n",
    "accomplished by changing one Redis command.  In this case we need to change the \n",
    "LPOP to an RPOP command."
   ]
  },
  {
   "cell_type": "code",
   "execution_count": null,
    "metadata": {
               "kernelspec": {
               "display_name": "Python (Redis Workshop)",
               "language": "Python",
               "name": "redisworkshop"
           }},
   "outputs": [],
   "source": [
    "def get_least_recent_for_user(r, user_id):\n",
    "    \"Returns the least recent viewed item for a user\"\n",
    "    \n",
    "    key = workshop.lists.user_history_key(user_id)\n",
    "    item_json = r.rpop(key)\n",
    "    if item_json is not None:\n",
    "        item = workshop.lists.ViewedItem.from_serialized_json(item_json)\n",
    "        return item\n",
    "    else:\n",
    "        return None\n",
    "    \n",
    "# utility functions to set up our database\n",
    "workshop.lists.clear_user_history(r, 1001)\n",
    "workshop.lists.clear_user_history(r, 3001)\n",
    "workshop.lists.add_history(r, 3001)\n",
    "\n",
    "# simulate for user 1001\n",
    "item = get_least_recent_for_user(r, 1001)\n",
    "pprint.pprint(\"User Id: 1001\") \n",
    "pprint.pprint(item)\n",
    "\n",
    "# simulate for user 3001\n",
    "item = get_least_recent_for_user(r, 3001)\n",
    "pprint.pprint(\"User Id: 3001\")\n",
    "pprint.pprint(item)\n"
   ]
  },
  {
   "cell_type": "markdown",
    "metadata": {
               "kernelspec": {
               "display_name": "Python (Redis Workshop)",
               "language": "Python",
               "name": "redisworkshop"
           }},
   "source": [
    "Notice how in both examples, Redis didn't return an error even though we never created the\n",
    "list for user 1001. Redis often operates like a scripting language, trying to return\n",
    "sensible defaults for missing data instead of returning errors that require additional\n",
    "logic to process.\n",
    "\n",
    "Like the previous example using LPOP, this example destructively modifies our viewing\n",
    "history. Most viewing histories operate differently, the historical view is only changed\n",
    "when you look at a new item. Again, Redis makes it very easy to implement this\n",
    "functionality. The LINDEX command takes a list key and an index and returns the element at\n",
    "the index without modifying the list. In the cell below reimplement the\n",
    "`get_most_recent_for_user` function to return the most recently viewed item without\n",
    "modifying the list.\n",
    "\n",
    "Feel free to use the `clear_user_history`, `add_history`, `add_viewed_item`, and\n",
    "`show_database_state` functions as desired to test your function."
   ]
  },
  {
   "cell_type": "code",
   "execution_count": null,
    "metadata": {
               "kernelspec": {
               "display_name": "Python (Redis Workshop)",
               "language": "Python",
               "name": "redisworkshop"
           }},
   "outputs": [],
   "source": [
    "def get_most_recent_for_user(r, user_id):\n",
    "    \"Returns the most recent viewed item for a user\"\n",
    "    \n",
    "    # replace the pass statement with your code\n",
    "    pass"
   ]
  },
  {
   "cell_type": "markdown",
    "metadata": {
               "kernelspec": {
               "display_name": "Python (Redis Workshop)",
               "language": "Python",
               "name": "redisworkshop"
           }},
   "source": [
    "### Getting All Items\n",
    "\n",
    "Getting only one result or looping over all the historical items and getting one element\n",
    "at a time, is not going to make for a satisfying feature. Eventually, we will need to get\n",
    "all of the items from Redis in a single call.\n",
    "\n",
    "Using the LRANGE command, you can read a range of items from a list without modifying the\n",
    "stored list. The developer specifies a start and end position to the LRANGE command, which\n",
    "returns the *inclusive* range specified by those two positions relative to the **left**\n",
    "end of the list. As an example, given the list [0, 1, 2, 3, 4, 5], the range 1, 3 would\n",
    "return the list [1, 2, 3]. Negative indexes can be used to reference from the right of the\n",
    "list.\n",
    "\n",
    "The LRANGE command takes a start and end position and returns the inclusive range\n",
    "specified by those two positions from the **left**. As an example, if I had the list [0,\n",
    "1, 2, 3, 4, 5], the range 1 to 3 would return the list [1, 2, 3]. Negative indexes can be\n",
    "used to reference from the right (end) of a list. Specifying the range -3,-1 to LRANGE\n",
    "would return [3, 4, 5].\n",
    "\n",
    "* * *\n",
    "\n",
    "> **Tip**\n",
    ">\n",
    "> Although negative indexes in Redis reference from the right of the list,\n",
    "> ranges still have to define a contiguous block of elements that run from left to \n",
    "> right.  So the range -3, -1 will return results, the range -1, -3 returns an empty list.\n",
    ">\n",
    "\n",
    "* * *\n",
    "\n",
    "Like most Redis commands for reading data, LRANGE tries to return a sensible\n",
    "result for missing data. The example code below, shows how you can use LRANGE \n",
    "to fetch a users entire history list."
   ]
  },
  {
   "cell_type": "code",
   "execution_count": null,
    "metadata": {
               "kernelspec": {
               "display_name": "Python (Redis Workshop)",
               "language": "Python",
               "name": "redisworkshop"
           }},
   "outputs": [],
   "source": [
    "def get_recently_viewed_items(r, user_id):\n",
    "    \"Returns a list of the most recently viewed items of the given user\"\n",
    "    \n",
    "    key = workshop.lists.user_history_key(user_id)\n",
    "    \n",
    "    db_results = r.lrange(key, 0, 9)\n",
    "    results = []\n",
    "    for db_result in db_results:\n",
    "        results.append(workshop.lists.ViewedItem.from_serialized_json(db_result))\n",
    "    \n",
    "    return results\n",
    "\n",
    "# utility functions to set up our database\n",
    "workshop.lists.clear_user_history(r, 3001)\n",
    "workshop.lists.add_history(r, 3001)\n",
    "\n",
    "pprint.pprint(get_recently_viewed_items(r, 3001))\n"
   ]
  },
  {
   "cell_type": "markdown",
    "metadata": {
               "kernelspec": {
               "display_name": "Python (Redis Workshop)",
               "language": "Python",
               "name": "redisworkshop"
           }},
   "source": [
    "If your example runs as expected, you should see a printout of the list of\n",
    "`ViewedItems` representing the user's data.\n",
    "\n",
    "## Scaling \n",
    "\n",
    "As your data set changes, you may need to reconsider the implementation \n",
    "used in this particular example.  For simplicity, the example code stores\n",
    "a copy of the complete historically viewed item in each element - redundantly\n",
    "storing both the `title` and `url` properties across multiple users.  While\n",
    "the amount of memory that an user might be reasonable, the cost of storing that\n",
    "redundant information may become prohibitive as your user population grows.\n",
    "\n",
    "To support a large data set, you might consider using a more compact encoding\n",
    "than JSON and storing the date along with a key, such as an integer item id, \n",
    "that can be used to look up the other details about the item. \n",
    "\n",
    "## Conclusion\n",
    "\n",
    "The Redis List datatype is a flexible way of storing ordered sequences of data.\n",
    "In our example, we use it to maintain a list of historically viewed items, but\n",
    "the underlying data structure can be used for a variety of features.  You could\n",
    "use lists to maintain a user's news feed, implement a widget that displays a\n",
    "series of tweets, or even order user votes over time.\n",
    "\n",
    "Redis lists can be used for a variety of other tasks.  Many developers - and\n",
    "some libraries - use lists to maintain work and task queues, other developers\n",
    "have used lists to exchange messages between processes.  More details regarding\n",
    "lists can be viewed on the [List Commands](https://redis.io/commands#list) page\n",
    "on [Redis.io](https://redis.io)."
   ]
  }
 ],
  "metadata": {
               "kernelspec": {
               "display_name": "Python (Redis Workshop)",
               "language": "Python",
               "name": "redisworkshop"
           }},
 "nbformat": 4,
 "nbformat_minor": 2
}
